{
 "cells": [
  {
   "cell_type": "code",
   "execution_count": 87,
   "metadata": {},
   "outputs": [
    {
     "name": "stdout",
     "output_type": "stream",
     "text": [
      "Collecting boto3\n",
      "  Obtaining dependency information for boto3 from https://files.pythonhosted.org/packages/11/df/4e09f629ad5aa710e22be0daf767381a4bb7306416d3d255d7bc9a3920ed/boto3-1.34.85-py3-none-any.whl.metadata\n",
      "  Downloading boto3-1.34.85-py3-none-any.whl.metadata (6.6 kB)\n",
      "Collecting botocore<1.35.0,>=1.34.85 (from boto3)\n",
      "  Obtaining dependency information for botocore<1.35.0,>=1.34.85 from https://files.pythonhosted.org/packages/4e/00/60de4c95e406e399f47be280ce87110d752300bfe8e584876e4db16383e0/botocore-1.34.85-py3-none-any.whl.metadata\n",
      "  Downloading botocore-1.34.85-py3-none-any.whl.metadata (5.7 kB)\n",
      "Requirement already satisfied: jmespath<2.0.0,>=0.7.1 in /Users/adam/anaconda3/lib/python3.11/site-packages (from boto3) (0.10.0)\n",
      "Collecting s3transfer<0.11.0,>=0.10.0 (from boto3)\n",
      "  Obtaining dependency information for s3transfer<0.11.0,>=0.10.0 from https://files.pythonhosted.org/packages/83/37/395cdb6ee92925fa211e55d8f07b9f93cf93f60d7d4ce5e66fd73f1ea986/s3transfer-0.10.1-py3-none-any.whl.metadata\n",
      "  Downloading s3transfer-0.10.1-py3-none-any.whl.metadata (1.7 kB)\n",
      "Requirement already satisfied: python-dateutil<3.0.0,>=2.1 in /Users/adam/anaconda3/lib/python3.11/site-packages (from botocore<1.35.0,>=1.34.85->boto3) (2.8.2)\n",
      "Requirement already satisfied: urllib3!=2.2.0,<3,>=1.25.4 in /Users/adam/anaconda3/lib/python3.11/site-packages (from botocore<1.35.0,>=1.34.85->boto3) (1.26.16)\n",
      "Requirement already satisfied: six>=1.5 in /Users/adam/anaconda3/lib/python3.11/site-packages (from python-dateutil<3.0.0,>=2.1->botocore<1.35.0,>=1.34.85->boto3) (1.16.0)\n",
      "Downloading boto3-1.34.85-py3-none-any.whl (139 kB)\n",
      "\u001b[2K   \u001b[90m━━━━━━━━━━━━━━━━━━━━━━━━━━━━━━━━━━━━━━━━\u001b[0m \u001b[32m139.3/139.3 kB\u001b[0m \u001b[31m5.1 MB/s\u001b[0m eta \u001b[36m0:00:00\u001b[0m\n",
      "\u001b[?25hDownloading botocore-1.34.85-py3-none-any.whl (12.1 MB)\n",
      "\u001b[2K   \u001b[90m━━━━━━━━━━━━━━━━━━━━━━━━━━━━━━━━━━━━━━━━\u001b[0m \u001b[32m12.1/12.1 MB\u001b[0m \u001b[31m18.1 MB/s\u001b[0m eta \u001b[36m0:00:00\u001b[0m00:01\u001b[0m00:01\u001b[0m\n",
      "\u001b[?25hDownloading s3transfer-0.10.1-py3-none-any.whl (82 kB)\n",
      "\u001b[2K   \u001b[90m━━━━━━━━━━━━━━━━━━━━━━━━━━━━━━━━━━━━━━━━\u001b[0m \u001b[32m82.2/82.2 kB\u001b[0m \u001b[31m10.8 MB/s\u001b[0m eta \u001b[36m0:00:00\u001b[0m\n",
      "\u001b[?25hInstalling collected packages: botocore, s3transfer, boto3\n",
      "  Attempting uninstall: botocore\n",
      "    Found existing installation: botocore 1.29.76\n",
      "    Uninstalling botocore-1.29.76:\n",
      "      Successfully uninstalled botocore-1.29.76\n",
      "\u001b[31mERROR: pip's dependency resolver does not currently take into account all the packages that are installed. This behaviour is the source of the following dependency conflicts.\n",
      "aiobotocore 2.5.0 requires botocore<1.29.77,>=1.29.76, but you have botocore 1.34.85 which is incompatible.\u001b[0m\u001b[31m\n",
      "\u001b[0mSuccessfully installed boto3-1.34.85 botocore-1.34.85 s3transfer-0.10.1\n"
     ]
    }
   ],
   "source": [
    "# !pip install boto3"
   ]
  },
  {
   "cell_type": "code",
   "execution_count": 100,
   "metadata": {},
   "outputs": [
    {
     "name": "stdout",
     "output_type": "stream",
     "text": [
      "Requirement already satisfied: python-dotenv in /Users/adam/anaconda3/lib/python3.11/site-packages (0.21.0)\n"
     ]
    }
   ],
   "source": [
    "# !pip install python-dotenv"
   ]
  },
  {
   "cell_type": "code",
   "execution_count": 156,
   "metadata": {},
   "outputs": [
    {
     "data": {
      "text/plain": [
       "True"
      ]
     },
     "execution_count": 156,
     "metadata": {},
     "output_type": "execute_result"
    }
   ],
   "source": [
    "import requests\n",
    "import json\n",
    "import datetime as dt\n",
    "import boto3\n",
    "from dotenv import load_dotenv\n",
    "import os\n",
    "import logging\n",
    "from botocore.exceptions import ClientError\n",
    "\n",
    "load_dotenv()"
   ]
  },
  {
   "cell_type": "code",
   "execution_count": 149,
   "metadata": {},
   "outputs": [],
   "source": [
    "def get_weather(date: str) -> object:\n",
    "    API_KEY = '54ab2e260fc248557172cbca7ddcd23a'\n",
    "    dailyAggEndpoint = 'https://api.openweathermap.org/data/3.0/onecall/day_summary'\n",
    "    lat = '50.842589'\n",
    "    lon = '-0.812001'\n",
    "    units = 'metric'\n",
    "\n",
    "    # Endpoint has weather data for a particular date from 1979-01-02 and long-term forecast for 1.5 years ahead\n",
    "    url = f'{dailyAggEndpoint}?appid={API_KEY}&date={date}&lat={lat}&lon={lon}&units={units}'\n",
    "    \n",
    "    r = requests.get(url)\n",
    "    \n",
    "    if (r.status_code == 200):\n",
    "        return json.loads(r.text)\n",
    "    \n",
    "    return {}"
   ]
  },
  {
   "cell_type": "code",
   "execution_count": 154,
   "metadata": {},
   "outputs": [],
   "source": [
    "def dates_in_period(start_date: str, end_date: str = False) -> list:\n",
    "    \n",
    "    if not end_date:\n",
    "        end_date = start_date\n",
    "    \n",
    "    # Dates inclusive\n",
    "    start_date = dt.date.fromisoformat(start_date)\n",
    "    end_date = dt.date.fromisoformat(end_date)\n",
    "    \n",
    "    dateDiff = end_date - start_date\n",
    "\n",
    "    output = []\n",
    "\n",
    "    for x in range (dateDiff.days + 1):\n",
    "        date = start_date + dt.timedelta(days=x)\n",
    "        output.append(date.isoformat())\n",
    "        \n",
    "    return output"
   ]
  },
  {
   "cell_type": "code",
   "execution_count": 110,
   "metadata": {},
   "outputs": [],
   "source": [
    "def upload_file(s3_client: object, file_name: str, bucket: str, object_name: str = None, layer: str = 'raw') -> bool:\n",
    "\n",
    "    # If S3 object_name was not specified, use file_name\n",
    "    if object_name is None:\n",
    "        object_name = os.path.basename(file_name)\n",
    "\n",
    "    object_name = f'{layer}/{object_name}'\n",
    "\n",
    "    try:\n",
    "        response = s3_client.upload_file(file_name, bucket, object_name)\n",
    "    except ClientError as e:\n",
    "        logging.error(e)\n",
    "        return False\n",
    "    return True"
   ]
  },
  {
   "cell_type": "code",
   "execution_count": 140,
   "metadata": {},
   "outputs": [],
   "source": [
    "def upload_json(s3_client: object, obj: object, bucket: str, object_name: str, folder: str = 'weather') -> bool:\n",
    "\n",
    "    object_name = f'{folder}/{object_name}'\n",
    "\n",
    "    try:\n",
    "        response = s3_client.put_object(Body = bytes(json.dumps(obj, indent=2).encode('UTF-8')), Bucket = bucket, Key = object_name)\n",
    "    except ClientError as e:\n",
    "        logging.error(e)\n",
    "        return False\n",
    "    return True"
   ]
  },
  {
   "cell_type": "code",
   "execution_count": 161,
   "metadata": {},
   "outputs": [],
   "source": [
    "def upload_weather_data(from_date: str, to_date: str = False) -> bool:\n",
    "\n",
    "    if not to_date:\n",
    "        to_date = from_date\n",
    "\n",
    "    file_count = 0\n",
    "\n",
    "    for date in dates_in_period(from_date, to_date):\n",
    "        body = get_weather(date)\n",
    "\n",
    "        if not body:\n",
    "            raise Exception(f'error loading weather data for {date}')\n",
    "        \n",
    "        bucket = 'ab-rainfall-proj'\n",
    "\n",
    "        s3 = boto3.client('s3')\n",
    "        \n",
    "        path = f'openweather_dailyagg_{date}.json'\n",
    "\n",
    "        upload_json(s3, body, bucket, path, 'weather')\n",
    "        \n",
    "        file_count += 1\n",
    "        \n",
    "    print(f'saved and uploaded {file_count} files')\n",
    "    \n",
    "    return True"
   ]
  },
  {
   "cell_type": "code",
   "execution_count": 170,
   "metadata": {},
   "outputs": [
    {
     "name": "stdout",
     "output_type": "stream",
     "text": [
      "saved and uploaded 365 files\n"
     ]
    },
    {
     "data": {
      "text/plain": [
       "True"
      ]
     },
     "execution_count": 170,
     "metadata": {},
     "output_type": "execute_result"
    }
   ],
   "source": [
    "upload_weather_data('2014-01-01', '2014-12-31')"
   ]
  }
 ],
 "metadata": {
  "kernelspec": {
   "display_name": "base",
   "language": "python",
   "name": "python3"
  },
  "language_info": {
   "codemirror_mode": {
    "name": "ipython",
    "version": 3
   },
   "file_extension": ".py",
   "mimetype": "text/x-python",
   "name": "python",
   "nbconvert_exporter": "python",
   "pygments_lexer": "ipython3",
   "version": "3.11.5"
  }
 },
 "nbformat": 4,
 "nbformat_minor": 2
}
